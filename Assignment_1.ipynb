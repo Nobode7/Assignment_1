{
 "cells": [
  {
   "cell_type": "code",
   "execution_count": 1,
   "id": "c9cf0907",
   "metadata": {},
   "outputs": [],
   "source": [
    "import pandas as pd"
   ]
  },
  {
   "cell_type": "code",
   "execution_count": 2,
   "id": "71f9882e",
   "metadata": {},
   "outputs": [],
   "source": [
    "from compute_Total_Time import *"
   ]
  },
  {
   "cell_type": "code",
   "execution_count": 3,
   "id": "0dbaeaf1",
   "metadata": {},
   "outputs": [
    {
     "name": "stdout",
     "output_type": "stream",
     "text": [
      "Enter 3 tasks that you have done in Week1 , Task1: Study\n",
      "Enter the total hours you spent on Task1 in Week1 : 7\n",
      "Enter 3 tasks that you have done in Week1 , Task2: Dance\n",
      "Enter the total hours you spent on Task2 in Week1 : 3\n",
      "Enter 3 tasks that you have done in Week1 , Task3: Game\n",
      "Enter the total hours you spent on Task3 in Week1 : 2\n",
      "4.0\n",
      "{'Week': 'Week1', 'Study': 7, 'Dance': 3, 'Game': 2, 'Avg_Hrs': 4.0}\n",
      "Enter 3 tasks that you have done in Week2 , Task1: Study\n",
      "Enter the total hours you spent on Task1 in Week2 : 9\n",
      "Enter 3 tasks that you have done in Week2 , Task2: Dance\n",
      "Enter the total hours you spent on Task2 in Week2 : 2\n",
      "Enter 3 tasks that you have done in Week2 , Task3: Game\n",
      "Enter the total hours you spent on Task3 in Week2 : 3\n",
      "4.67\n",
      "{'Week': 'Week2', 'Study': 9, 'Dance': 2, 'Game': 3, 'Avg_Hrs': 4.67}\n",
      "Enter 3 tasks that you have done in Week3 , Task1: Study\n",
      "Enter the total hours you spent on Task1 in Week3 : 10\n",
      "Enter 3 tasks that you have done in Week3 , Task2: Dance\n",
      "Enter the total hours you spent on Task2 in Week3 : 1\n",
      "Enter 3 tasks that you have done in Week3 , Task3: Game\n",
      "Enter the total hours you spent on Task3 in Week3 : 5\n",
      "5.33\n",
      "{'Week': 'Week3', 'Study': 10, 'Dance': 1, 'Game': 5, 'Avg_Hrs': 5.33}\n",
      "Enter 3 tasks that you have done in Week4 , Task1: Study\n",
      "Enter the total hours you spent on Task1 in Week4 : 12\n",
      "Enter 3 tasks that you have done in Week4 , Task2: Dance\n",
      "Enter the total hours you spent on Task2 in Week4 : 4\n",
      "Enter 3 tasks that you have done in Week4 , Task3: Game\n",
      "Enter the total hours you spent on Task3 in Week4 : 7\n",
      "7.67\n",
      "{'Week': 'Week4', 'Study': 12, 'Dance': 4, 'Game': 7, 'Avg_Hrs': 7.67}\n",
      "[{'Week': 'Week1', 'Study': 7, 'Dance': 3, 'Game': 2, 'Avg_Hrs': 4.0}, {'Week': 'Week2', 'Study': 9, 'Dance': 2, 'Game': 3, 'Avg_Hrs': 4.67}, {'Week': 'Week3', 'Study': 10, 'Dance': 1, 'Game': 5, 'Avg_Hrs': 5.33}, {'Week': 'Week4', 'Study': 12, 'Dance': 4, 'Game': 7, 'Avg_Hrs': 7.67}]\n"
     ]
    }
   ],
   "source": [
    "Total_Time = get_Weekly_Hrs()"
   ]
  },
  {
   "cell_type": "code",
   "execution_count": 4,
   "id": "8e459a4a",
   "metadata": {},
   "outputs": [
    {
     "data": {
      "text/html": [
       "<div>\n",
       "<style scoped>\n",
       "    .dataframe tbody tr th:only-of-type {\n",
       "        vertical-align: middle;\n",
       "    }\n",
       "\n",
       "    .dataframe tbody tr th {\n",
       "        vertical-align: top;\n",
       "    }\n",
       "\n",
       "    .dataframe thead th {\n",
       "        text-align: right;\n",
       "    }\n",
       "</style>\n",
       "<table border=\"1\" class=\"dataframe\">\n",
       "  <thead>\n",
       "    <tr style=\"text-align: right;\">\n",
       "      <th></th>\n",
       "      <th>Week</th>\n",
       "      <th>Study</th>\n",
       "      <th>Dance</th>\n",
       "      <th>Game</th>\n",
       "      <th>Avg_Hrs</th>\n",
       "    </tr>\n",
       "  </thead>\n",
       "  <tbody>\n",
       "    <tr>\n",
       "      <th>0</th>\n",
       "      <td>Week1</td>\n",
       "      <td>7</td>\n",
       "      <td>3</td>\n",
       "      <td>2</td>\n",
       "      <td>4.00</td>\n",
       "    </tr>\n",
       "    <tr>\n",
       "      <th>1</th>\n",
       "      <td>Week2</td>\n",
       "      <td>9</td>\n",
       "      <td>2</td>\n",
       "      <td>3</td>\n",
       "      <td>4.67</td>\n",
       "    </tr>\n",
       "    <tr>\n",
       "      <th>2</th>\n",
       "      <td>Week3</td>\n",
       "      <td>10</td>\n",
       "      <td>1</td>\n",
       "      <td>5</td>\n",
       "      <td>5.33</td>\n",
       "    </tr>\n",
       "    <tr>\n",
       "      <th>3</th>\n",
       "      <td>Week4</td>\n",
       "      <td>12</td>\n",
       "      <td>4</td>\n",
       "      <td>7</td>\n",
       "      <td>7.67</td>\n",
       "    </tr>\n",
       "  </tbody>\n",
       "</table>\n",
       "</div>"
      ],
      "text/plain": [
       "    Week  Study  Dance  Game  Avg_Hrs\n",
       "0  Week1      7      3     2     4.00\n",
       "1  Week2      9      2     3     4.67\n",
       "2  Week3     10      1     5     5.33\n",
       "3  Week4     12      4     7     7.67"
      ]
     },
     "execution_count": 4,
     "metadata": {},
     "output_type": "execute_result"
    }
   ],
   "source": [
    "df = pd.DataFrame(Total_Time)\n",
    "df"
   ]
  },
  {
   "cell_type": "code",
   "execution_count": 5,
   "id": "65fdcae5",
   "metadata": {},
   "outputs": [
    {
     "data": {
      "text/html": [
       "<div>\n",
       "<style scoped>\n",
       "    .dataframe tbody tr th:only-of-type {\n",
       "        vertical-align: middle;\n",
       "    }\n",
       "\n",
       "    .dataframe tbody tr th {\n",
       "        vertical-align: top;\n",
       "    }\n",
       "\n",
       "    .dataframe thead th {\n",
       "        text-align: right;\n",
       "    }\n",
       "</style>\n",
       "<table border=\"1\" class=\"dataframe\">\n",
       "  <thead>\n",
       "    <tr style=\"text-align: right;\">\n",
       "      <th></th>\n",
       "      <th>Week</th>\n",
       "      <th>Study</th>\n",
       "      <th>Dance</th>\n",
       "      <th>Game</th>\n",
       "      <th>Avg_Hrs</th>\n",
       "    </tr>\n",
       "  </thead>\n",
       "  <tbody>\n",
       "    <tr>\n",
       "      <th>0</th>\n",
       "      <td>Week1</td>\n",
       "      <td>7</td>\n",
       "      <td>3</td>\n",
       "      <td>2</td>\n",
       "      <td>4.00</td>\n",
       "    </tr>\n",
       "    <tr>\n",
       "      <th>1</th>\n",
       "      <td>Week2</td>\n",
       "      <td>9</td>\n",
       "      <td>2</td>\n",
       "      <td>3</td>\n",
       "      <td>4.67</td>\n",
       "    </tr>\n",
       "    <tr>\n",
       "      <th>2</th>\n",
       "      <td>Week3</td>\n",
       "      <td>10</td>\n",
       "      <td>1</td>\n",
       "      <td>5</td>\n",
       "      <td>5.33</td>\n",
       "    </tr>\n",
       "    <tr>\n",
       "      <th>3</th>\n",
       "      <td>Week4</td>\n",
       "      <td>12</td>\n",
       "      <td>4</td>\n",
       "      <td>7</td>\n",
       "      <td>7.67</td>\n",
       "    </tr>\n",
       "  </tbody>\n",
       "</table>\n",
       "</div>"
      ],
      "text/plain": [
       "    Week  Study  Dance  Game  Avg_Hrs\n",
       "0  Week1      7      3     2     4.00\n",
       "1  Week2      9      2     3     4.67\n",
       "2  Week3     10      1     5     5.33\n",
       "3  Week4     12      4     7     7.67"
      ]
     },
     "execution_count": 5,
     "metadata": {},
     "output_type": "execute_result"
    }
   ],
   "source": [
    "df.to_csv('Assignment_1.csv',mode='w',index=False)\n",
    "df"
   ]
  },
  {
   "cell_type": "code",
   "execution_count": 10,
   "id": "5662535d",
   "metadata": {},
   "outputs": [
    {
     "data": {
      "image/png": "[encoded data removed]",
      "text/plain": [
       "<Figure size 432x288 with 1 Axes>"
      ]
     },
     "metadata": {
      "needs_background": "light"
     },
     "output_type": "display_data"
    }
   ],
   "source": [
    "from matplotlib import pyplot as plt\n",
    "Week = [\"Week1\",\"Week2\",\"Week3\",\"Week4\"]\n",
    "Study = [7,9,10,12]\n",
    "Dance = [3,2,1,4]\n",
    "Game = [2,3,5,7]\n",
    "Avg_Hrs = [4.00,4.67,5.33,7.67]\n",
    "plt.plot(Week, Study, color='purple',marker='s')\n",
    "plt.plot(Week, Dance, color='green',marker='s')\n",
    "plt.plot(Week, Game, color = 'pink',marker='s')\n",
    "plt.plot(Week, Avg_Hrs, color = 'blue',marker='o')\n",
    "plt.legend(['Study','Dance','Game','Average_Hours']) \n",
    "plt.xlabel(\"Week\")\n",
    "plt.ylabel(\"Hours\")\n",
    "plt.title(\"Lindsay's Weekly Schedule\")\n",
    "plt.show()"
   ]
  }
 ],
 "metadata": {
  "kernelspec": {
   "display_name": "Python 3",
   "language": "python",
   "name": "python3"
  },
  "language_info": {
   "codemirror_mode": {
    "name": "ipython",
    "version": 3
   },
   "file_extension": ".py",
   "mimetype": "text/x-python",
   "name": "python",
   "nbconvert_exporter": "python",
   "pygments_lexer": "ipython3",
   "version": "3.8.8"
  }
 },
 "nbformat": 4,
 "nbformat_minor": 5
}
