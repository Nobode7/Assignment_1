{
 "cells": [
  {
   "cell_type": "code",
   "execution_count": 11,
   "id": "960a81d1",
   "metadata": {},
   "outputs": [],
   "source": [
    "import pandas as pd"
   ]
  },
  {
   "cell_type": "code",
   "execution_count": 13,
   "id": "efab64e4",
   "metadata": {},
   "outputs": [
    {
     "name": "stdout",
     "output_type": "stream",
     "text": [
      "Enter 3 tasks that you want do per week, Task1: Study\n",
      "Enter the total hours you spent on Task1 in Week1 : 7\n",
      "Enter 3 tasks that you want do per week, Task2: Dance\n",
      "Enter the total hours you spent on Task2 in Week1 : 3\n",
      "Enter 3 tasks that you want do per week, Task3: Game\n",
      "Enter the total hours you spent on Task3 in Week1 : 2\n",
      "4.0\n",
      "{'Week': 'Week1', 'Study': 7, 'Dance': 3, 'Game': 2, 'Avg_Hrs': 4.0}\n",
      "Enter 3 tasks that you want do per week, Task1: Study\n",
      "Enter the total hours you spent on Task1 in Week2 : 10\n",
      "Enter 3 tasks that you want do per week, Task2: Dance\n",
      "Enter the total hours you spent on Task2 in Week2 : 1\n",
      "Enter 3 tasks that you want do per week, Task3: Game\n",
      "Enter the total hours you spent on Task3 in Week2 : 5\n",
      "5.33\n",
      "{'Week': 'Week2', 'Study': 10, 'Dance': 1, 'Game': 5, 'Avg_Hrs': 5.33}\n",
      "Enter 3 tasks that you want do per week, Task1: Study\n",
      "Enter the total hours you spent on Task1 in Week3 : 9\n",
      "Enter 3 tasks that you want do per week, Task2: Dance\n",
      "Enter the total hours you spent on Task2 in Week3 : 2\n",
      "Enter 3 tasks that you want do per week, Task3: Game\n",
      "Enter the total hours you spent on Task3 in Week3 : 3\n",
      "4.67\n",
      "{'Week': 'Week3', 'Study': 9, 'Dance': 2, 'Game': 3, 'Avg_Hrs': 4.67}\n",
      "Enter 3 tasks that you want do per week, Task1: Study\n",
      "Enter the total hours you spent on Task1 in Week4 : 12\n",
      "Enter 3 tasks that you want do per week, Task2: Dance\n",
      "Enter the total hours you spent on Task2 in Week4 : 1\n",
      "Enter 3 tasks that you want do per week, Task3: Game\n",
      "Enter the total hours you spent on Task3 in Week4 : 7\n",
      "6.67\n",
      "{'Week': 'Week4', 'Study': 12, 'Dance': 1, 'Game': 7, 'Avg_Hrs': 6.67}\n",
      "[{'Week': 'Week1', 'Study': 7, 'Dance': 3, 'Game': 2, 'Avg_Hrs': 4.0}, {'Week': 'Week2', 'Study': 10, 'Dance': 1, 'Game': 5, 'Avg_Hrs': 5.33}, {'Week': 'Week3', 'Study': 9, 'Dance': 2, 'Game': 3, 'Avg_Hrs': 4.67}, {'Week': 'Week4', 'Study': 12, 'Dance': 1, 'Game': 7, 'Avg_Hrs': 6.67}]\n"
     ]
    }
   ],
   "source": [
    "Week = [\"Week1\",\"Week2\",\"Week3\",\"Week4\"]\n",
    "Tasks = [\"Task1\",\"Task2\",\"Task3\"]\n",
    "Task_name = []\n",
    "Total_Time = []\n",
    "\n",
    "for i in Week:\n",
    "    Total_Hrs_Spent_Per_Week = {}\n",
    "    Total_Hrs = 0\n",
    "    for ii in Tasks:\n",
    "        Task_name = input(\"Enter 3 tasks that you want do per week, \" + ii + \": \")\n",
    "        Hours = int(input(\"Enter the total hours you spent on \" + ii + \" in \" + i + \" : \"))\n",
    "        Total_Hrs = Total_Hrs + float(Hours)\n",
    "        Total_Hrs_Spent_Per_Week [\"Week\"] = i\n",
    "        Total_Hrs_Spent_Per_Week [Task_name] = Hours\n",
    "        Avg_Hrs = round(Total_Hrs/3,2)\n",
    "    print(Avg_Hrs)\n",
    "    Total_Hrs_Spent_Per_Week [\"Avg_Hrs\"] = Avg_Hrs\n",
    "    print(Total_Hrs_Spent_Per_Week)\n",
    "    Total_Time.append(Total_Hrs_Spent_Per_Week)\n",
    "print(Total_Time)"
   ]
  },
  {
   "cell_type": "code",
   "execution_count": 14,
   "id": "2ad1a9e4",
   "metadata": {},
   "outputs": [
    {
     "data": {
      "text/html": [
       "<div>\n",
       "<style scoped>\n",
       "    .dataframe tbody tr th:only-of-type {\n",
       "        vertical-align: middle;\n",
       "    }\n",
       "\n",
       "    .dataframe tbody tr th {\n",
       "        vertical-align: top;\n",
       "    }\n",
       "\n",
       "    .dataframe thead th {\n",
       "        text-align: right;\n",
       "    }\n",
       "</style>\n",
       "<table border=\"1\" class=\"dataframe\">\n",
       "  <thead>\n",
       "    <tr style=\"text-align: right;\">\n",
       "      <th></th>\n",
       "      <th>Week</th>\n",
       "      <th>Study</th>\n",
       "      <th>Dance</th>\n",
       "      <th>Game</th>\n",
       "      <th>Avg_Hrs</th>\n",
       "    </tr>\n",
       "  </thead>\n",
       "  <tbody>\n",
       "    <tr>\n",
       "      <th>0</th>\n",
       "      <td>Week1</td>\n",
       "      <td>7</td>\n",
       "      <td>3</td>\n",
       "      <td>2</td>\n",
       "      <td>4.00</td>\n",
       "    </tr>\n",
       "    <tr>\n",
       "      <th>1</th>\n",
       "      <td>Week2</td>\n",
       "      <td>10</td>\n",
       "      <td>1</td>\n",
       "      <td>5</td>\n",
       "      <td>5.33</td>\n",
       "    </tr>\n",
       "    <tr>\n",
       "      <th>2</th>\n",
       "      <td>Week3</td>\n",
       "      <td>9</td>\n",
       "      <td>2</td>\n",
       "      <td>3</td>\n",
       "      <td>4.67</td>\n",
       "    </tr>\n",
       "    <tr>\n",
       "      <th>3</th>\n",
       "      <td>Week4</td>\n",
       "      <td>12</td>\n",
       "      <td>1</td>\n",
       "      <td>7</td>\n",
       "      <td>6.67</td>\n",
       "    </tr>\n",
       "  </tbody>\n",
       "</table>\n",
       "</div>"
      ],
      "text/plain": [
       "    Week  Study  Dance  Game  Avg_Hrs\n",
       "0  Week1      7      3     2     4.00\n",
       "1  Week2     10      1     5     5.33\n",
       "2  Week3      9      2     3     4.67\n",
       "3  Week4     12      1     7     6.67"
      ]
     },
     "execution_count": 14,
     "metadata": {},
     "output_type": "execute_result"
    }
   ],
   "source": [
    "df = pd.DataFrame(Total_Time)\n",
    "df"
   ]
  },
  {
   "cell_type": "code",
   "execution_count": 15,
   "id": "f224301c",
   "metadata": {},
   "outputs": [
    {
     "data": {
      "text/html": [
       "<div>\n",
       "<style scoped>\n",
       "    .dataframe tbody tr th:only-of-type {\n",
       "        vertical-align: middle;\n",
       "    }\n",
       "\n",
       "    .dataframe tbody tr th {\n",
       "        vertical-align: top;\n",
       "    }\n",
       "\n",
       "    .dataframe thead th {\n",
       "        text-align: right;\n",
       "    }\n",
       "</style>\n",
       "<table border=\"1\" class=\"dataframe\">\n",
       "  <thead>\n",
       "    <tr style=\"text-align: right;\">\n",
       "      <th></th>\n",
       "      <th>Week</th>\n",
       "      <th>Study</th>\n",
       "      <th>Dance</th>\n",
       "      <th>Game</th>\n",
       "      <th>Avg_Hrs</th>\n",
       "    </tr>\n",
       "  </thead>\n",
       "  <tbody>\n",
       "    <tr>\n",
       "      <th>0</th>\n",
       "      <td>Week1</td>\n",
       "      <td>7</td>\n",
       "      <td>3</td>\n",
       "      <td>2</td>\n",
       "      <td>4.00</td>\n",
       "    </tr>\n",
       "    <tr>\n",
       "      <th>1</th>\n",
       "      <td>Week2</td>\n",
       "      <td>10</td>\n",
       "      <td>1</td>\n",
       "      <td>5</td>\n",
       "      <td>5.33</td>\n",
       "    </tr>\n",
       "    <tr>\n",
       "      <th>2</th>\n",
       "      <td>Week3</td>\n",
       "      <td>9</td>\n",
       "      <td>2</td>\n",
       "      <td>3</td>\n",
       "      <td>4.67</td>\n",
       "    </tr>\n",
       "    <tr>\n",
       "      <th>3</th>\n",
       "      <td>Week4</td>\n",
       "      <td>12</td>\n",
       "      <td>1</td>\n",
       "      <td>7</td>\n",
       "      <td>6.67</td>\n",
       "    </tr>\n",
       "  </tbody>\n",
       "</table>\n",
       "</div>"
      ],
      "text/plain": [
       "    Week  Study  Dance  Game  Avg_Hrs\n",
       "0  Week1      7      3     2     4.00\n",
       "1  Week2     10      1     5     5.33\n",
       "2  Week3      9      2     3     4.67\n",
       "3  Week4     12      1     7     6.67"
      ]
     },
     "execution_count": 15,
     "metadata": {},
     "output_type": "execute_result"
    }
   ],
   "source": [
    "df.to_csv('Assignment1.csv',mode='w',index=False)\n",
    "df"
   ]
  },
  {
   "cell_type": "code",
   "execution_count": 16,
   "id": "ca36bbe3",
   "metadata": {},
   "outputs": [
    {
     "data": {
      "image/png": "[encoded data removed]",
      "text/plain": [
       "<Figure size 432x288 with 1 Axes>"
      ]
     },
     "metadata": {
      "needs_background": "light"
     },
     "output_type": "display_data"
    }
   ],
   "source": [
    "from matplotlib import pyplot as plt\n",
    "Study = [7, 10, 9, 12]\n",
    "Dance = [3, 1, 2, 1]\n",
    "Game = [2, 5, 3, 7]\n",
    "Avg_Hrs = [4.00,5.33,4.67,6.67]\n",
    "plt.plot(Week, Study, color='purple',marker='s')\n",
    "plt.plot(Week, Dance, color='#82edc9',marker='s')\n",
    "plt.plot(Week, Game, color = 'pink',marker='s')\n",
    "plt.plot(Week, Avg_Hrs, color = 'blue',marker='s')\n",
    "plt.legend(['Study','Dance','Game','Average_Hours']) \n",
    "plt.xlabel(\"Week\")\n",
    "plt.ylabel(\"Hours\")\n",
    "plt.title('Weekly Schedule')\n",
    "plt.show()"
   ]
  }
 ],
 "metadata": {
  "kernelspec": {
   "display_name": "Python 3",
   "language": "python",
   "name": "python3"
  },
  "language_info": {
   "codemirror_mode": {
    "name": "ipython",
    "version": 3
   },
   "file_extension": ".py",
   "mimetype": "text/x-python",
   "name": "python",
   "nbconvert_exporter": "python",
   "pygments_lexer": "ipython3",
   "version": "3.8.8"
  }
 },
 "nbformat": 4,
 "nbformat_minor": 5
}
